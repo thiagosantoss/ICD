{
  "nbformat": 4,
  "nbformat_minor": 0,
  "metadata": {
    "kernelspec": {
      "display_name": "icd",
      "language": "python",
      "name": "icd"
    },
    "language_info": {
      "codemirror_mode": {
        "name": "ipython",
        "version": 3
      },
      "file_extension": ".py",
      "mimetype": "text/x-python",
      "name": "python",
      "nbconvert_exporter": "python",
      "pygments_lexer": "ipython3",
      "version": "3.7.7"
    },
    "colab": {
      "name": "Exercício - Medidas de Centralidade e Dispersão.ipynb",
      "provenance": []
    }
  },
  "cells": [
    {
      "cell_type": "markdown",
      "metadata": {
        "id": "C3H50gNq-ppq"
      },
      "source": [
        "# Introdução à Ciência de Dados - UFPB\n",
        "Professor: Yuri Malheiros\n",
        "\n",
        "## Medidas de Centralidade e Dispersão"
      ]
    },
    {
      "cell_type": "markdown",
      "metadata": {
        "id": "SOETYtXo-ppr"
      },
      "source": [
        "A partir do dataset `movies.csv` calcule a média, mediana e desvio padrão para as colunas:"
      ]
    },
    {
      "cell_type": "code",
      "metadata": {
        "id": "MXdptlS6Bp79",
        "outputId": "e455a7fc-8758-4e38-eed0-3b53c18da69d",
        "colab": {
          "base_uri": "https://localhost:8080/",
          "height": 35
        }
      },
      "source": [
        "import os\n",
        "import pandas as pd\n",
        "from google.colab import drive\n",
        "\n",
        "drive.mount('/gdrive')\n"
      ],
      "execution_count": 1,
      "outputs": [
        {
          "output_type": "stream",
          "text": [
            "Mounted at /gdrive\n"
          ],
          "name": "stdout"
        }
      ]
    },
    {
      "cell_type": "code",
      "metadata": {
        "id": "PdWz_7sQCpVp",
        "outputId": "26c085d6-e4a8-478e-c375-9f0e79eff1f5",
        "colab": {
          "base_uri": "https://localhost:8080/",
          "height": 477
        }
      },
      "source": [
        "df = pd.read_csv('/gdrive/My Drive/Colab Notebooks/movies.csv', sep = ',')\n",
        "df.head()"
      ],
      "execution_count": 2,
      "outputs": [
        {
          "output_type": "execute_result",
          "data": {
            "text/html": [
              "<div>\n",
              "<style scoped>\n",
              "    .dataframe tbody tr th:only-of-type {\n",
              "        vertical-align: middle;\n",
              "    }\n",
              "\n",
              "    .dataframe tbody tr th {\n",
              "        vertical-align: top;\n",
              "    }\n",
              "\n",
              "    .dataframe thead th {\n",
              "        text-align: right;\n",
              "    }\n",
              "</style>\n",
              "<table border=\"1\" class=\"dataframe\">\n",
              "  <thead>\n",
              "    <tr style=\"text-align: right;\">\n",
              "      <th></th>\n",
              "      <th>Title</th>\n",
              "      <th>US Gross</th>\n",
              "      <th>Worldwide Gross</th>\n",
              "      <th>US DVD Sales</th>\n",
              "      <th>Production Budget</th>\n",
              "      <th>Release Date</th>\n",
              "      <th>MPAA Rating</th>\n",
              "      <th>Running Time (min)</th>\n",
              "      <th>Distributor</th>\n",
              "      <th>Source</th>\n",
              "      <th>Major Genre</th>\n",
              "      <th>Creative Type</th>\n",
              "      <th>Director</th>\n",
              "      <th>Rotten Tomatoes Rating</th>\n",
              "      <th>IMDB Rating</th>\n",
              "      <th>IMDB Votes</th>\n",
              "    </tr>\n",
              "  </thead>\n",
              "  <tbody>\n",
              "    <tr>\n",
              "      <th>0</th>\n",
              "      <td>The Land Girls</td>\n",
              "      <td>146083.0</td>\n",
              "      <td>146083.0</td>\n",
              "      <td>NaN</td>\n",
              "      <td>8000000.0</td>\n",
              "      <td>12-Jun-98</td>\n",
              "      <td>R</td>\n",
              "      <td>NaN</td>\n",
              "      <td>Gramercy</td>\n",
              "      <td>NaN</td>\n",
              "      <td>NaN</td>\n",
              "      <td>NaN</td>\n",
              "      <td>NaN</td>\n",
              "      <td>NaN</td>\n",
              "      <td>6.1</td>\n",
              "      <td>1071.0</td>\n",
              "    </tr>\n",
              "    <tr>\n",
              "      <th>1</th>\n",
              "      <td>First Love, Last Rites</td>\n",
              "      <td>10876.0</td>\n",
              "      <td>10876.0</td>\n",
              "      <td>NaN</td>\n",
              "      <td>300000.0</td>\n",
              "      <td>7-Aug-98</td>\n",
              "      <td>R</td>\n",
              "      <td>NaN</td>\n",
              "      <td>Strand</td>\n",
              "      <td>NaN</td>\n",
              "      <td>Drama</td>\n",
              "      <td>NaN</td>\n",
              "      <td>NaN</td>\n",
              "      <td>NaN</td>\n",
              "      <td>6.9</td>\n",
              "      <td>207.0</td>\n",
              "    </tr>\n",
              "    <tr>\n",
              "      <th>2</th>\n",
              "      <td>I Married a Strange Person</td>\n",
              "      <td>203134.0</td>\n",
              "      <td>203134.0</td>\n",
              "      <td>NaN</td>\n",
              "      <td>250000.0</td>\n",
              "      <td>28-Aug-98</td>\n",
              "      <td>NaN</td>\n",
              "      <td>NaN</td>\n",
              "      <td>Lionsgate</td>\n",
              "      <td>NaN</td>\n",
              "      <td>Comedy</td>\n",
              "      <td>NaN</td>\n",
              "      <td>NaN</td>\n",
              "      <td>NaN</td>\n",
              "      <td>6.8</td>\n",
              "      <td>865.0</td>\n",
              "    </tr>\n",
              "    <tr>\n",
              "      <th>3</th>\n",
              "      <td>Let's Talk About Sex</td>\n",
              "      <td>373615.0</td>\n",
              "      <td>373615.0</td>\n",
              "      <td>NaN</td>\n",
              "      <td>300000.0</td>\n",
              "      <td>11-Sep-98</td>\n",
              "      <td>NaN</td>\n",
              "      <td>NaN</td>\n",
              "      <td>Fine Line</td>\n",
              "      <td>NaN</td>\n",
              "      <td>Comedy</td>\n",
              "      <td>NaN</td>\n",
              "      <td>NaN</td>\n",
              "      <td>13.0</td>\n",
              "      <td>NaN</td>\n",
              "      <td>NaN</td>\n",
              "    </tr>\n",
              "    <tr>\n",
              "      <th>4</th>\n",
              "      <td>Slam</td>\n",
              "      <td>1009819.0</td>\n",
              "      <td>1087521.0</td>\n",
              "      <td>NaN</td>\n",
              "      <td>1000000.0</td>\n",
              "      <td>9-Oct-98</td>\n",
              "      <td>R</td>\n",
              "      <td>NaN</td>\n",
              "      <td>Trimark</td>\n",
              "      <td>Original Screenplay</td>\n",
              "      <td>Drama</td>\n",
              "      <td>Contemporary Fiction</td>\n",
              "      <td>NaN</td>\n",
              "      <td>62.0</td>\n",
              "      <td>3.4</td>\n",
              "      <td>165.0</td>\n",
              "    </tr>\n",
              "  </tbody>\n",
              "</table>\n",
              "</div>"
            ],
            "text/plain": [
              "                        Title   US Gross  ...  IMDB Rating  IMDB Votes\n",
              "0              The Land Girls   146083.0  ...          6.1      1071.0\n",
              "1      First Love, Last Rites    10876.0  ...          6.9       207.0\n",
              "2  I Married a Strange Person   203134.0  ...          6.8       865.0\n",
              "3        Let's Talk About Sex   373615.0  ...          NaN         NaN\n",
              "4                        Slam  1009819.0  ...          3.4       165.0\n",
              "\n",
              "[5 rows x 16 columns]"
            ]
          },
          "metadata": {
            "tags": []
          },
          "execution_count": 2
        }
      ]
    },
    {
      "cell_type": "markdown",
      "metadata": {
        "id": "OhXjlLVD-pps"
      },
      "source": [
        "### US Gross"
      ]
    },
    {
      "cell_type": "code",
      "metadata": {
        "id": "TXu5-4r0-ppt",
        "outputId": "321cb6a7-4852-4903-c756-d89d932d5dd4",
        "colab": {
          "base_uri": "https://localhost:8080/",
          "height": 90
        }
      },
      "source": [
        "# ADICIONE O SEU CÓDIGO AQUI\n",
        "print(\"Média: \", df['US Gross'].mean())\n",
        "print(\"Mediana: \", df['US Gross'].median())\n",
        "print(\"Desvio padrão: \", df['US Gross'].std())\n",
        "print(\"Diferença Média e mediana: \", abs(df['US Gross'].mean() - df['US Gross'].median()))\n",
        "\n"
      ],
      "execution_count": 13,
      "outputs": [
        {
          "output_type": "stream",
          "text": [
            "Média:  44002085.163744524\n",
            "Mediana:  22019465.5\n",
            "Desvio padrão:  62555311.39066204\n",
            "Diferença Média e mediana:  21982619.663744524\n"
          ],
          "name": "stdout"
        }
      ]
    },
    {
      "cell_type": "markdown",
      "metadata": {
        "id": "BMQoJiQZ-pp0"
      },
      "source": [
        "### Production Budget"
      ]
    },
    {
      "cell_type": "code",
      "metadata": {
        "id": "grQkuWLH-pp2",
        "outputId": "eac6d60b-ebdf-4166-9a30-a0c0ebb65b94",
        "colab": {
          "base_uri": "https://localhost:8080/",
          "height": 90
        }
      },
      "source": [
        "# ADICIONE O SEU CÓDIGO AQUI\n",
        "print(\"Média: \", df['Production Budget'].mean())\n",
        "print(\"Mediana: \", df['Production Budget'].median())\n",
        "print(\"Desvio padrão: \", df['Production Budget'].std())\n",
        "print(\"Diferença Média e mediana: \", abs(df['Production Budget'].mean() - df['Production Budget'].median()))"
      ],
      "execution_count": 11,
      "outputs": [
        {
          "output_type": "stream",
          "text": [
            "Média:  31069171.4484375\n",
            "Mediana:  20000000.0\n",
            "Desvio padrão:  35585913.44464446\n",
            "Diferença Média e mediana:  11069171.4484375\n"
          ],
          "name": "stdout"
        }
      ]
    },
    {
      "cell_type": "markdown",
      "metadata": {
        "id": "1AvRVDXO-pp7"
      },
      "source": [
        "### Running Time"
      ]
    },
    {
      "cell_type": "code",
      "metadata": {
        "id": "3K4noPnK-pp8",
        "outputId": "ac9cd4eb-1732-4c42-8046-4e1b541fe6b4",
        "colab": {
          "base_uri": "https://localhost:8080/",
          "height": 90
        }
      },
      "source": [
        "# ADICIONE O SEU CÓDIGO AQUI\n",
        "print(\"Média: \", df['Running Time (min)'].mean())\n",
        "print(\"Mediana: \", df['Running Time (min)'].median())\n",
        "print(\"Desvio padrão: \", df['Running Time (min)'].std())\n",
        "print(\"Diferença Média e mediana: \", abs(df['Running Time (min)'].mean() - df['Running Time (min)'].median()))\n"
      ],
      "execution_count": 12,
      "outputs": [
        {
          "output_type": "stream",
          "text": [
            "Média:  110.19354838709677\n",
            "Mediana:  107.0\n",
            "Desvio padrão:  20.171013677535424\n",
            "Diferença Média e mediana:  3.1935483870967687\n"
          ],
          "name": "stdout"
        }
      ]
    },
    {
      "cell_type": "markdown",
      "metadata": {
        "id": "P-KnIQGi-pqB"
      },
      "source": [
        "### IMDB Rating"
      ]
    },
    {
      "cell_type": "code",
      "metadata": {
        "id": "gvhJpRAd-pqC",
        "outputId": "4eb52250-9e33-45b7-cc82-3bf2bf600ee1",
        "colab": {
          "base_uri": "https://localhost:8080/",
          "height": 90
        }
      },
      "source": [
        "# ADICIONE O SEU CÓDIGO AQUI\n",
        "print(\"Média: \", df['IMDB Rating'].mean())\n",
        "print(\"Mediana: \", df['IMDB Rating'].median())\n",
        "print(\"Desvio padrão: \", df['IMDB Rating'].std())\n",
        "print(\"Diferença Média e mediana: \", abs(df['IMDB Rating'].mean() - df['IMDB Rating'].median()))\n",
        "\n",
        "\n"
      ],
      "execution_count": 14,
      "outputs": [
        {
          "output_type": "stream",
          "text": [
            "Média:  6.283467202141896\n",
            "Mediana:  6.4\n",
            "Desvio padrão:  1.2522899386004838\n",
            "Diferença Média e mediana:  0.11653279785810433\n"
          ],
          "name": "stdout"
        }
      ]
    },
    {
      "cell_type": "markdown",
      "metadata": {
        "id": "ZqVDtE18-pqJ"
      },
      "source": [
        "### IMDB Votes"
      ]
    },
    {
      "cell_type": "code",
      "metadata": {
        "id": "ijzuNUiF-pqK",
        "outputId": "fb2adfa0-15e1-400c-bb94-66aea9ebc81c",
        "colab": {
          "base_uri": "https://localhost:8080/",
          "height": 90
        }
      },
      "source": [
        "# ADICIONE O SEU CÓDIGO AQUI\n",
        "print(\"Média: \", df['IMDB Votes'].mean())\n",
        "print(\"Mediana: \", df['IMDB Votes'].median())\n",
        "print(\"Desvio padrão: \", df['IMDB Votes'].std())\n",
        "print(\"Diferença Média e mediana: \", abs(df['IMDB Votes'].mean() - df['IMDB Votes'].median()))\n",
        "\n",
        "\n",
        "\n"
      ],
      "execution_count": 15,
      "outputs": [
        {
          "output_type": "stream",
          "text": [
            "Média:  29908.64457831325\n",
            "Mediana:  15106.0\n",
            "Desvio padrão:  44937.58233504965\n",
            "Diferença Média e mediana:  14802.644578313251\n"
          ],
          "name": "stdout"
        }
      ]
    },
    {
      "cell_type": "markdown",
      "metadata": {
        "id": "O2uK67mE-pqO"
      },
      "source": [
        "### Análise dos Resultados\n",
        "\n",
        "Quais colunas tiveram valores muito diferentes entre média e mediana? Quais os seus desvios padrão?"
      ]
    },
    {
      "cell_type": "markdown",
      "metadata": {
        "id": "y0BpLcng-pqP"
      },
      "source": [
        "* **US Gross**, std = 62555311.39066204\n",
        "* **Production Budget**, std = 35585913.44464446\n",
        "* **IMDB Votes**, std = 44937.58233504965"
      ]
    },
    {
      "cell_type": "markdown",
      "metadata": {
        "id": "fWjHO133-pqP"
      },
      "source": [
        "Que conclusões podemos tirar desses resultados?"
      ]
    },
    {
      "cell_type": "markdown",
      "metadata": {
        "id": "7UZA4tKG-pqR"
      },
      "source": [
        "\n",
        "As variáveis **US Gross, Production Budget e IMDB Votes** possuem a média distante da mediana, o que pode significar que existe muita distorção em seus dados (assimetria).\n",
        "\n",
        "**Running Time e MDB Rating** Possuem a média proxima da mediana, o que pode significar que há pouca distorção em seus dados.\n",
        "\n",
        "\n",
        "\n",
        "\n"
      ]
    },
    {
      "cell_type": "code",
      "metadata": {
        "id": "VQ4o4501PjjH"
      },
      "source": [
        ""
      ],
      "execution_count": null,
      "outputs": []
    }
  ]
}