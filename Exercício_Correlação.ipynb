{
  "nbformat": 4,
  "nbformat_minor": 0,
  "metadata": {
    "kernelspec": {
      "display_name": "icd",
      "language": "python",
      "name": "icd"
    },
    "language_info": {
      "codemirror_mode": {
        "name": "ipython",
        "version": 3
      },
      "file_extension": ".py",
      "mimetype": "text/x-python",
      "name": "python",
      "nbconvert_exporter": "python",
      "pygments_lexer": "ipython3",
      "version": "3.7.7"
    },
    "colab": {
      "name": "Exercício - Correlação.ipynb",
      "provenance": []
    }
  },
  "cells": [
    {
      "cell_type": "code",
      "metadata": {
        "id": "Kq0knOFagHNI",
        "outputId": "d4ff5a03-663e-43a5-830b-72abea1402fb",
        "colab": {
          "base_uri": "https://localhost:8080/",
          "height": 35
        }
      },
      "source": [
        "import os\n",
        "import pandas as pd\n",
        "from google.colab import drive\n",
        "\n",
        "drive.mount('/gdrive')\n"
      ],
      "execution_count": 2,
      "outputs": [
        {
          "output_type": "stream",
          "text": [
            "Mounted at /gdrive\n"
          ],
          "name": "stdout"
        }
      ]
    },
    {
      "cell_type": "code",
      "metadata": {
        "id": "LIA0I5a3gp8O",
        "outputId": "23b4defb-50e1-4e0e-82bb-31c81db25d00",
        "colab": {
          "base_uri": "https://localhost:8080/",
          "height": 198
        }
      },
      "source": [
        "df = pd.read_csv('/gdrive/My Drive/Colab Notebooks/times_futebol.csv', sep = ',')\n",
        "df.head()"
      ],
      "execution_count": 3,
      "outputs": [
        {
          "output_type": "execute_result",
          "data": {
            "text/html": [
              "<div>\n",
              "<style scoped>\n",
              "    .dataframe tbody tr th:only-of-type {\n",
              "        vertical-align: middle;\n",
              "    }\n",
              "\n",
              "    .dataframe tbody tr th {\n",
              "        vertical-align: top;\n",
              "    }\n",
              "\n",
              "    .dataframe thead th {\n",
              "        text-align: right;\n",
              "    }\n",
              "</style>\n",
              "<table border=\"1\" class=\"dataframe\">\n",
              "  <thead>\n",
              "    <tr style=\"text-align: right;\">\n",
              "      <th></th>\n",
              "      <th>Clubes</th>\n",
              "      <th>PG</th>\n",
              "      <th>J</th>\n",
              "      <th>V</th>\n",
              "      <th>E</th>\n",
              "      <th>D</th>\n",
              "      <th>GP</th>\n",
              "      <th>GC</th>\n",
              "      <th>SG</th>\n",
              "    </tr>\n",
              "  </thead>\n",
              "  <tbody>\n",
              "    <tr>\n",
              "      <th>0</th>\n",
              "      <td>Flamengo</td>\n",
              "      <td>90</td>\n",
              "      <td>38</td>\n",
              "      <td>28</td>\n",
              "      <td>6</td>\n",
              "      <td>4</td>\n",
              "      <td>86</td>\n",
              "      <td>37</td>\n",
              "      <td>49</td>\n",
              "    </tr>\n",
              "    <tr>\n",
              "      <th>1</th>\n",
              "      <td>Santos</td>\n",
              "      <td>74</td>\n",
              "      <td>38</td>\n",
              "      <td>22</td>\n",
              "      <td>8</td>\n",
              "      <td>8</td>\n",
              "      <td>60</td>\n",
              "      <td>33</td>\n",
              "      <td>27</td>\n",
              "    </tr>\n",
              "    <tr>\n",
              "      <th>2</th>\n",
              "      <td>Palmeiras</td>\n",
              "      <td>74</td>\n",
              "      <td>38</td>\n",
              "      <td>21</td>\n",
              "      <td>11</td>\n",
              "      <td>6</td>\n",
              "      <td>61</td>\n",
              "      <td>32</td>\n",
              "      <td>29</td>\n",
              "    </tr>\n",
              "    <tr>\n",
              "      <th>3</th>\n",
              "      <td>Grêmio</td>\n",
              "      <td>65</td>\n",
              "      <td>38</td>\n",
              "      <td>19</td>\n",
              "      <td>8</td>\n",
              "      <td>11</td>\n",
              "      <td>64</td>\n",
              "      <td>39</td>\n",
              "      <td>25</td>\n",
              "    </tr>\n",
              "    <tr>\n",
              "      <th>4</th>\n",
              "      <td>Athlético-pr</td>\n",
              "      <td>64</td>\n",
              "      <td>38</td>\n",
              "      <td>18</td>\n",
              "      <td>10</td>\n",
              "      <td>10</td>\n",
              "      <td>51</td>\n",
              "      <td>32</td>\n",
              "      <td>19</td>\n",
              "    </tr>\n",
              "  </tbody>\n",
              "</table>\n",
              "</div>"
            ],
            "text/plain": [
              "         Clubes  PG   J   V   E   D  GP  GC  SG\n",
              "0      Flamengo  90  38  28   6   4  86  37  49\n",
              "1        Santos  74  38  22   8   8  60  33  27\n",
              "2     Palmeiras  74  38  21  11   6  61  32  29\n",
              "3        Grêmio  65  38  19   8  11  64  39  25\n",
              "4  Athlético-pr  64  38  18  10  10  51  32  19"
            ]
          },
          "metadata": {
            "tags": []
          },
          "execution_count": 3
        }
      ]
    },
    {
      "cell_type": "markdown",
      "metadata": {
        "id": "x9jNOx9-frFS"
      },
      "source": [
        "# Introdução à Ciência de Dados - UFPB\n",
        "Professor: Yuri Malheiros\n",
        "\n",
        "## Correlação"
      ]
    },
    {
      "cell_type": "markdown",
      "metadata": {
        "id": "-5WsFSVifrFU"
      },
      "source": [
        "Colete os seguintes dados dos times do campeonato brasileiro de 2019:\n",
        "\n",
        "- Pontos\n",
        "- Gols marcados\n",
        "- Gol sofridos\n",
        "\n",
        "Você pode encontrar esses dados no site da CBF (www.cbf.com.br)\n",
        "\n",
        "Calcule a correlação entre:\n",
        "\n",
        "- Pontos e gols marcados\n",
        "- Pontos e gols sofridos"
      ]
    },
    {
      "cell_type": "markdown",
      "metadata": {
        "id": "5DBQqlP4frFV"
      },
      "source": [
        "### Correlação entre Pontos e gols marcados"
      ]
    },
    {
      "cell_type": "code",
      "metadata": {
        "id": "jP5T0q9bfrFW",
        "outputId": "dff332e9-4e8c-4879-8f8f-bf3d1eac6022",
        "colab": {
          "base_uri": "https://localhost:8080/",
          "height": 352
        }
      },
      "source": [
        "# ADICIONE O SEU CÓDIGO AQUI\n",
        "print(df[['PG', 'GP']].corr())\n",
        "df.plot.scatter(x = 'PG', y = 'GP')"
      ],
      "execution_count": 4,
      "outputs": [
        {
          "output_type": "stream",
          "text": [
            "          PG        GP\n",
            "PG  1.000000  0.935497\n",
            "GP  0.935497  1.000000\n"
          ],
          "name": "stdout"
        },
        {
          "output_type": "execute_result",
          "data": {
            "text/plain": [
              "<matplotlib.axes._subplots.AxesSubplot at 0x7fe369ee2e10>"
            ]
          },
          "metadata": {
            "tags": []
          },
          "execution_count": 4
        },
        {
          "output_type": "display_data",
          "data": {
            "image/png": "[encoded data removed]",
            "text/plain": [
              "<Figure size 432x288 with 1 Axes>"
            ]
          },
          "metadata": {
            "tags": [],
            "needs_background": "light"
          }
        }
      ]
    },
    {
      "cell_type": "markdown",
      "metadata": {
        "id": "rs3BfI2GfrFd"
      },
      "source": [
        "### Correlação entre Pontos e gols sofridos"
      ]
    },
    {
      "cell_type": "code",
      "metadata": {
        "id": "g0OSLNSBfrFe",
        "outputId": "e56fd2f7-207c-4c20-c29d-f60c8fa953a3",
        "colab": {
          "base_uri": "https://localhost:8080/",
          "height": 352
        }
      },
      "source": [
        "# ADICIONE O SEU CÓDIGO AQUI\n",
        "print(df[['PG', 'GC']].corr())\n",
        "df.plot.scatter(x = 'PG', y = 'GC')"
      ],
      "execution_count": 5,
      "outputs": [
        {
          "output_type": "stream",
          "text": [
            "          PG        GC\n",
            "PG  1.000000 -0.716262\n",
            "GC -0.716262  1.000000\n"
          ],
          "name": "stdout"
        },
        {
          "output_type": "execute_result",
          "data": {
            "text/plain": [
              "<matplotlib.axes._subplots.AxesSubplot at 0x7fe369e41630>"
            ]
          },
          "metadata": {
            "tags": []
          },
          "execution_count": 5
        },
        {
          "output_type": "display_data",
          "data": {
            "image/png": "[encoded data removed]",
            "text/plain": [
              "<Figure size 432x288 with 1 Axes>"
            ]
          },
          "metadata": {
            "tags": [],
            "needs_background": "light"
          }
        }
      ]
    },
    {
      "cell_type": "markdown",
      "metadata": {
        "id": "jXMk0PdAfrFi"
      },
      "source": [
        "### Análise dos Resultados\n",
        "\n",
        "Qual o nível (fraco, moderado, forte) das correlações entre as variáveis analisadas?"
      ]
    },
    {
      "cell_type": "markdown",
      "metadata": {
        "id": "5q2JkdzNfrFj"
      },
      "source": [
        "\n",
        "\n",
        "```\n",
        "# Isto está formatado como código\n",
        "```\n",
        "\n",
        "**RESPONDA AQUI**\n",
        "\n",
        "* **Pontos e gols marcados**: Correlação muito forte\n",
        "* **Pontos e gols sofridos**: Correlação forte"
      ]
    },
    {
      "cell_type": "markdown",
      "metadata": {
        "id": "r_DxJaUpfrFk"
      },
      "source": [
        "De acordo com os dados analisados, é melhor um time focar em marcar mais gols ou sofrer menos gols?"
      ]
    },
    {
      "cell_type": "markdown",
      "metadata": {
        "id": "2rYD8UWufrFl"
      },
      "source": [
        "**RESPONDA AQUI**\n",
        "\n",
        "É melhor o time focar em marcar mais gols, visto que a correlação entre gols marcados e os pontos obtidos (0.93) é mais forte do que a correlação (anticorrelação) entre gols sofridos e pontos obtidos (-0.71) "
      ]
    },
    {
      "cell_type": "code",
      "metadata": {
        "id": "DxvCyYWJi0rD"
      },
      "source": [
        ""
      ],
      "execution_count": null,
      "outputs": []
    }
  ]
}